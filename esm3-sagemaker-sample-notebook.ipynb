{
 "cells": [
  {
   "cell_type": "markdown",
   "metadata": {},
   "source": [
    "# Deploy ESM3-open Model Package from AWS Marketplace \n",
    "\n",
    "---\n",
    "## 1. Overview\n",
    "\n",
    "### 1.1. <font color='orange'>Important Note:</font>\n",
    "\n",
    "Please visit model detail page in <a href=\"https://aws.amazon.com/marketplace/pp/prodview-xbvra5ylcu4xq\">https://aws.amazon.com/marketplace/pp/prodview-xbvra5ylcu4xq</a> to learn more. <font color='orange'>If you do not have access to the link, please contact account admin for the help.</font>\n",
    "\n",
    "You will find details about the model including pricing, supported region, and end user license agreement. To use the model, please click “<font color='orange'>Continue to Subscribe</font>” from the detail page, come back here and learn how to deploy and inference.\n",
    "\n",
    "ESM3 is a frontier generative model for biology, able to jointly reason across three fundamental biological properties of proteins: sequence, structure, and function. These three data modalities are represented as tracks of discrete tokens at the input and output of ESM3. You can present the model with a combination of partial inputs across the tracks, and ESM3 will provide output predictions for all the tracks.\n",
    "ESM3 is a generative masked language model. You can prompt it with partial sequence, structure, and function keywords, and iteratively sample masked positions until all positions are unmasked.\n",
    "\n",
    "<img src=\"images/esm3-architecture.png\" alt=\"ESM3 Architecture\" style=\"width:800px;\"/>\n",
    "\n",
    "\n",
    "The ESM3 architecture is highly scalable due to its transformer backbone and all-to-all reasoning over discrete token sequences. At its largest scale, ESM3 was trained with 1.07e24 FLOPs on 2.78 billion proteins and 771 billion unique tokens, and has 98 billion parameters.\n",
    "Here we present esm3-open-small. With 1.4B parameters it is the smallest and fastest model in the family, trained specifically to be open sourced. ESM3-open is available under a non-commercial license.\n",
    "\n",
    "This sample notebook shows you how to deploy [EvolutionaryScale - ESM3](https://aws.amazon.com/marketplace/pp/prodview-xbvra5ylcu4xq) using Amazon SageMaker.\n",
    "\n",
    "> **Note**: This is a reference notebook and it cannot run unless you make changes suggested in the notebook.\n",
    "\n",
    "> ESM3 model package support SageMaker Realtime Inference but not SageMaker Batch Transform.\n",
    "\n",
    "### 1.2. Prerequisites\n",
    "- This notebook contains elements which render correctly in Jupyter interface. Open this notebook from an Amazon SageMaker Notebook Instance or Amazon SageMaker Studio.\n",
    "- Ensure that IAM role used has **AmazonSageMakerFullAccess** and a trust policy for `sagemaker.amazonaws.com`, as described in the <a href=\"https://docs.aws.amazon.com/sagemaker/latest/dg/sagemaker-roles.html#sagemaker-roles-pass-role\">SageMaker documentation</a>.\n",
    "- To deploy this ML model successfully, ensure that you meet one of the following conditions:\n",
    "    1. Your IAM role has these three permissions and you have authority to make AWS Marketplace subscriptions in the AWS account used: \n",
    "        - **aws-marketplace:ViewSubscriptions**\n",
    "        - **aws-marketplace:Unsubscribe**\n",
    "        - **aws-marketplace:Subscribe**  \n",
    "    2. Your AWS account has a subscription to [ESM3](https://aws.amazon.com/marketplace/pp/prodview-xbvra5ylcu4xq). If so, skip step: [Subscribe to the model package](#1.-Subscribe-to-the-model-package)\n",
    "\n",
    "### 1.3. Contents\n",
    "1. [Overview](#1.-Overview)\n",
    "2. [Subscribe to the model package](#2.-Subscribe-to-the-model-package)\n",
    "3. [Create a real-time inference endpoint ](#3.-Create-a-real-time-inference-endpoint)\n",
    "4. [Test endpoint](#4.-Test-endpoint)\n",
    "5. [Clean up](#5.-Clean-up)\n",
    "\n",
    "\n",
    "### 1.4. Usage instructions\n",
    "You can run this notebook one cell at a time by pressing the Shift+Enter keys."
   ]
  },
  {
   "cell_type": "markdown",
   "metadata": {},
   "source": [
    "---\n",
    "## 2. Subscribe to the model package"
   ]
  },
  {
   "cell_type": "markdown",
   "metadata": {},
   "source": [
    "1. Open the model package listing page [EvolutionaryScale ESM3 Model](https://aws.amazon.com/marketplace/pp/prodview-xbvra5ylcu4xq)\n",
    "1. On the AWS Marketplace listing, click on the **Continue to subscribe** button.\n",
    "1. On the **Subscribe to this software** page, review and click on **\"Accept Offer\"** if you and your organization agrees with EULA, pricing, and support terms. \n",
    "1. Once you click on **Continue to configuration button** and then choose a **region**, you will see a **Product Arn** displayed. This is the model package ARN that you need to specify while creating a deployable model using Boto3. Copy the ARN corresponding to your region and specify the same in the following cell."
   ]
  },
  {
   "cell_type": "markdown",
   "metadata": {},
   "source": [
    "---\n",
    "## 3. Create a real-time inference endpoint"
   ]
  },
  {
   "cell_type": "markdown",
   "metadata": {},
   "source": [
    "To learn more about real-time inference on Amazon SageMaker, please visit the [Documentation](https://docs.aws.amazon.com/sagemaker/latest/dg/how-it-works-hosting.html)."
   ]
  },
  {
   "cell_type": "markdown",
   "metadata": {},
   "source": [
    "### 3.1. Setup"
   ]
  },
  {
   "cell_type": "markdown",
   "metadata": {},
   "source": [
    "Install dependencies. For inference capabilities we will use EvolutionaryScale's `esm` package. The order of installation is important so that dependencies don't get overriden."
   ]
  },
  {
   "cell_type": "code",
   "execution_count": null,
   "metadata": {
    "tags": []
   },
   "outputs": [],
   "source": [
    "from IPython.display import clear_output\n",
    "\n",
    "%pip install -U esm --no-deps\n",
    "%pip install -U -r requirements.txt\n",
    "%pip install -U sagemaker\n",
    "\n",
    "clear_output()"
   ]
  },
  {
   "cell_type": "markdown",
   "metadata": {},
   "source": [
    "Define ESM3 model package and instance information. You can find the `MODEL_NAME` and `ESM3_PACKAGE_ID` from the SageMaker console. Go to the SageMaker Console > Inference > Marketplace model packages. Then go to the tab that says AWS Marketplace Subscriptions.\n",
    "\n",
    "This notebook is designed to work different models from EvolutionaryScale. This notebook shows how you can use the ESM Open model."
   ]
  },
  {
   "cell_type": "code",
   "execution_count": null,
   "metadata": {},
   "outputs": [],
   "source": [
    "ESM3_PACKAGE_ID = \"esm3-sm-open-v1-e218175afc0b3c8d959cb2702a2d1097\" \n",
    "MODEL_NAME = \"esm3-sm-open-v1\"  # This is the open model version\n",
    "INSTANCE_TYPE = \"ml.g5.2xlarge\"\n",
    "INITIAL_INSTANCE_COUNT = 1"
   ]
  },
  {
   "cell_type": "code",
   "execution_count": null,
   "metadata": {
    "tags": []
   },
   "outputs": [],
   "source": [
    "import boto3\n",
    "import sagemaker\n",
    "\n",
    "# Create SageMaker clients\n",
    "sagemaker_session = sagemaker.Session()\n",
    "region = sagemaker_session.boto_region_name\n",
    "sagemaker_client = boto3.client(\"sagemaker\", region_name=region)\n",
    "sagemaker_runtime_client = boto3.client(\"sagemaker-runtime\", region_name=region)\n",
    "\n",
    "# Get SageMaker execution role\n",
    "try:\n",
    "    role = sagemaker.get_execution_role()\n",
    "    print(f\"Default SageMaker execution role: {role}\")\n",
    "except ValueError as e:\n",
    "    print(f\"Error getting default execution role: {e}\")\n",
    "    print(\n",
    "        \"You may need to specify a role explicitly or create one if not running in a SageMaker environment.\"\n",
    "    )\n",
    "\n",
    "# Identify model package arm\n",
    "model_package_map = {\n",
    "    \"ap-northeast-1\": f\"arn:aws:sagemaker:ap-northeast-1:977537786026:model-package/{ESM3_PACKAGE_ID}\",\n",
    "    \"ap-northeast-2\": f\"arn:aws:sagemaker:ap-northeast-2:745090734665:model-package/{ESM3_PACKAGE_ID}\",\n",
    "    \"ap-south-1\": f\"arn:aws:sagemaker:ap-south-1:077584701553:model-package/{ESM3_PACKAGE_ID}\",\n",
    "    \"ap-southeast-1\": f\"arn:aws:sagemaker:ap-southeast-1:192199979996:model-package/{ESM3_PACKAGE_ID}\",\n",
    "    \"ap-southeast-2\": f\"arn:aws:sagemaker:ap-southeast-2:666831318237:model-package/{ESM3_PACKAGE_ID}\",\n",
    "    \"ca-central-1\": f\"arn:aws:sagemaker:ca-central-1:470592106596:model-package/{ESM3_PACKAGE_ID}\",\n",
    "    \"eu-central-1\": f\"arn:aws:sagemaker:eu-central-1:446921602837:model-package/{ESM3_PACKAGE_ID}\",\n",
    "    \"eu-north-1\": f\"arn:aws:sagemaker:eu-north-1:136758871317:model-package/{ESM3_PACKAGE_ID}\",\n",
    "    \"eu-west-1\": f\"arn:aws:sagemaker:eu-west-1:985815980388:model-package/{ESM3_PACKAGE_ID}\",\n",
    "    \"eu-west-2\": f\"arn:aws:sagemaker:eu-west-2:856760150666:model-package/{ESM3_PACKAGE_ID}\",\n",
    "    \"eu-west-3\": f\"arn:aws:sagemaker:eu-west-3:843114510376:model-package/{ESM3_PACKAGE_ID}\",\n",
    "    \"sa-east-1\": f\"arn:aws:sagemaker:sa-east-1:270155090741:model-package/{ESM3_PACKAGE_ID}\",\n",
    "    \"us-east-1\": f\"arn:aws:sagemaker:us-east-1:865070037744:model-package/{ESM3_PACKAGE_ID}\",\n",
    "    \"us-east-2\": f\"arn:aws:sagemaker:us-east-2:057799348421:model-package/{ESM3_PACKAGE_ID}\",\n",
    "    \"us-west-1\": f\"arn:aws:sagemaker:us-west-1:382657785993:model-package/{ESM3_PACKAGE_ID}\",\n",
    "    \"us-west-2\": f\"arn:aws:sagemaker:us-west-2:594846645681:model-package/{ESM3_PACKAGE_ID}\",\n",
    "}\n",
    "\n",
    "if region not in model_package_map.keys():\n",
    "    raise Exception(f\"Current boto3 session region {region} is not supported.\")\n",
    "\n",
    "model_package_arn = model_package_map[region]\n",
    "print(f\"Model package ARN: {model_package_arn}\")"
   ]
  },
  {
   "cell_type": "markdown",
   "metadata": {},
   "source": [
    "### 3.2. Create a model from the subscribed model package"
   ]
  },
  {
   "cell_type": "code",
   "execution_count": null,
   "metadata": {},
   "outputs": [],
   "source": [
    "model = sagemaker.model.ModelPackage(\n",
    "    role=role,\n",
    "    model_package_arn=model_package_arn,\n",
    "    sagemaker_session=sagemaker_session,\n",
    "    enable_network_isolation=True,\n",
    "    predictor_cls=sagemaker.predictor.Predictor,\n",
    ")"
   ]
  },
  {
   "cell_type": "markdown",
   "metadata": {},
   "source": [
    "### 3.3. Create a real-time endpoint"
   ]
  },
  {
   "cell_type": "markdown",
   "metadata": {},
   "source": [
    "Note: This step will take 10-20 minutes."
   ]
  },
  {
   "cell_type": "code",
   "execution_count": null,
   "metadata": {
    "tags": []
   },
   "outputs": [],
   "source": [
    "predictor = model.deploy(\n",
    "    initial_instance_count=INITIAL_INSTANCE_COUNT,\n",
    "    instance_type=INSTANCE_TYPE,\n",
    "    sagemaker_session=sagemaker_session,\n",
    "    serializer=sagemaker.base_serializers.JSONSerializer(),\n",
    "    deserializer=sagemaker.base_deserializers.JSONDeserializer(),\n",
    ")\n",
    "\n",
    "print(f\"Deployed endpoint name is {predictor.endpoint_name}\")\n",
    "print(f\"Model name is {MODEL_NAME}\")"
   ]
  },
  {
   "cell_type": "code",
   "execution_count": null,
   "metadata": {},
   "outputs": [],
   "source": [
    "print(predictor.endpoint_name)"
   ]
  },
  {
   "cell_type": "code",
   "execution_count": null,
   "metadata": {},
   "outputs": [],
   "source": [
    "ENDPOINT_NAME = predictor.endpoint_name"
   ]
  },
  {
   "cell_type": "markdown",
   "metadata": {},
   "source": [
    "It will require several minutes to deploy the model to an endpoint"
   ]
  },
  {
   "cell_type": "markdown",
   "metadata": {},
   "source": [
    "---\n",
    "## 4. Test endpoint"
   ]
  },
  {
   "cell_type": "markdown",
   "metadata": {},
   "source": [
    "### 4.1. Let's create a simple new protein sequence as a test for our endpoint"
   ]
  },
  {
   "cell_type": "code",
   "execution_count": null,
   "metadata": {},
   "outputs": [],
   "source": [
    "from esm.sdk.api import ESMProtein, GenerationConfig\n",
    "from esm.sdk.sagemaker import ESM3SageMakerClient\n",
    "from src.esmhelpers import format_seq, quick_pdb_plot, quick_aligment_plot\n",
    "\n",
    "model = ESM3SageMakerClient(endpoint_name=ENDPOINT_NAME, model=MODEL_NAME)"
   ]
  },
  {
   "cell_type": "markdown",
   "metadata": {},
   "source": [
    "ESM3 is a generative model, so the most basic task it can accomplish is to create the sequence and structure of a new protein. All ESM3 inference requests must include sequence information, so in this case we will pass a string of \"_\" symbols. This is the \"mask\" token that indicates where we want ESM3 to fill in the blanks.\n",
    "\n",
    "We start by generating a new protein sequence."
   ]
  },
  {
   "cell_type": "code",
   "execution_count": null,
   "metadata": {},
   "outputs": [],
   "source": [
    "%%time\n",
    "\n",
    "n_masked = 64\n",
    "\n",
    "masked_sequence = \"_\" * n_masked\n",
    "\n",
    "prompt = ESMProtein(sequence=masked_sequence)\n",
    "sequence_generation_config = GenerationConfig(\n",
    "    track=\"sequence\", # We want ESM3 to generate tokens for the sequence track\n",
    "    num_steps=prompt.sequence.count(\"_\") // 4, # We'll use num(mask tokens) // 4 steps to decode the sequence\n",
    "    temperature=0.7, # We'll use a temperature of 0.7 to increase the randomness of the decoding process\n",
    ")\n",
    "\n",
    "# Call the ESM3 inference endpoint\n",
    "generated_protein = model.generate(\n",
    "    prompt,\n",
    "    sequence_generation_config,\n",
    ")\n",
    "\n",
    "# View the generated sequence\n",
    "print(f\"Sequence length: {len(generated_protein.sequence)}\")\n",
    "print(format_seq(generated_protein.sequence))\n"
   ]
  },
  {
   "cell_type": "markdown",
   "metadata": {},
   "source": [
    "## Next steps\n",
    "\n",
    "Voila! You have a new sequence of proteins generated using ESM3 Open model. Head to the next notebook for more basic patterns."
   ]
  }
 ],
 "metadata": {
  "instance_type": "ml.t3.medium",
  "kernelspec": {
   "display_name": "Python 3 (ipykernel)",
   "language": "python",
   "name": "python3"
  },
  "language_info": {
   "codemirror_mode": {
    "name": "ipython",
    "version": 3
   },
   "file_extension": ".py",
   "mimetype": "text/x-python",
   "name": "python",
   "nbconvert_exporter": "python",
   "pygments_lexer": "ipython3",
   "version": "3.10.12"
  },
  "vscode": {
   "interpreter": {
    "hash": "b0fa6594d8f4cbf19f97940f81e996739fb7646882a419484c72d19e05852a7e"
   }
  }
 },
 "nbformat": 4,
 "nbformat_minor": 4
}
